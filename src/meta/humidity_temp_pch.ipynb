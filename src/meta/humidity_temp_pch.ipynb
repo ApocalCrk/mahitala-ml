{
 "cells": [
  {
   "cell_type": "code",
   "execution_count": 1,
   "metadata": {},
   "outputs": [],
   "source": [
    "import pandas as pd"
   ]
  },
  {
   "cell_type": "code",
   "execution_count": 2,
   "metadata": {},
   "outputs": [],
   "source": [
    "df_forecast = pd.read_csv('../../dataset/forecast_location-yogyakarta.csv')"
   ]
  },
  {
   "cell_type": "code",
   "execution_count": 3,
   "metadata": {},
   "outputs": [],
   "source": [
    "df_filtered = df_forecast[['ID Lokasi', 'Nama Daerah', 'Kabupaten/Kota', 'Provinsi', 'Kelembapan', 'Suhu']]\n"
   ]
  },
  {
   "cell_type": "code",
   "execution_count": 4,
   "metadata": {},
   "outputs": [],
   "source": [
    "df_averaged = df_filtered.groupby(['ID Lokasi', 'Nama Daerah', 'Kabupaten/Kota', 'Provinsi'], as_index=False).agg(\n",
    "    rata_rata_temp=('Suhu', 'mean'),\n",
    "    rata_rata_humi=('Kelembapan', 'mean')\n",
    ")\n"
   ]
  },
  {
   "cell_type": "code",
   "execution_count": 5,
   "metadata": {},
   "outputs": [],
   "source": [
    "df_averaged.to_csv('../../dataset/averaged_forecast-yogyakarta.csv', index=False)"
   ]
  }
 ],
 "metadata": {
  "kernelspec": {
   "display_name": "base",
   "language": "python",
   "name": "python3"
  },
  "language_info": {
   "codemirror_mode": {
    "name": "ipython",
    "version": 3
   },
   "file_extension": ".py",
   "mimetype": "text/x-python",
   "name": "python",
   "nbconvert_exporter": "python",
   "pygments_lexer": "ipython3",
   "version": "3.11.4"
  }
 },
 "nbformat": 4,
 "nbformat_minor": 2
}
