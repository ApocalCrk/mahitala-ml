{
 "cells": [
  {
   "cell_type": "code",
   "execution_count": 41,
   "metadata": {},
   "outputs": [],
   "source": [
    "import pandas as pd\n",
    "import numpy as np\n",
    "from sklearn.model_selection import train_test_split\n",
    "from sklearn.naive_bayes import GaussianNB\n",
    "from sklearn.metrics import classification_report\n",
    "import pickle\n",
    "import pymysql"
   ]
  },
  {
   "cell_type": "code",
   "execution_count": 42,
   "metadata": {},
   "outputs": [
    {
     "name": "stdout",
     "output_type": "stream",
     "text": [
      "connection successful\n"
     ]
    },
    {
     "name": "stderr",
     "output_type": "stream",
     "text": [
      "C:\\Users\\ferdy\\AppData\\Local\\Temp\\ipykernel_25492\\1781056883.py:34: UserWarning: pandas only supports SQLAlchemy connectable (engine/connection) or database string URI or sqlite3 DBAPI2 connection. Other DBAPI2 objects are not tested. Please consider using SQLAlchemy.\n",
      "  df = pd.read_sql(query, conn)\n"
     ]
    }
   ],
   "source": [
    "db_name = \"gis_system\"\n",
    "db_host = \"localhost\"\n",
    "db_username = \"root\"\n",
    "db_password = \"\"\n",
    "\n",
    "try:\n",
    "    conn = pymysql.connect(host = db_host,\n",
    "                           port = int(3306),\n",
    "                           user = \"root\",\n",
    "                           password = db_password,\n",
    "                           db = db_name)\n",
    "except e:\n",
    "    print (e)\n",
    "if conn:\n",
    "    print (\"connection successful\")\n",
    "else:\n",
    "    print (\"error\")\n",
    "\n",
    "# Query untuk mendapatkan data bulan sebelumnya\n",
    "query = \"\"\"\n",
    "SELECT \n",
    "    DATE(waktu) AS tanggal,\n",
    "    AVG(suhu) AS avg_temperature,\n",
    "    MIN(suhu) AS min_temperature,\n",
    "    MAX(suhu) AS max_temperature,\n",
    "    AVG(kelembapan) AS avg_humidity,\n",
    "    MIN(kelembapan) AS min_humidity,\n",
    "    MAX(kelembapan) AS max_humidity\n",
    "FROM forecast_weekly\n",
    "WHERE DATE_FORMAT(waktu, '%Y-%m') = DATE_FORMAT(DATE_SUB(CURDATE(), INTERVAL 1 MONTH), '%Y-%m')\n",
    "GROUP BY DATE(waktu)\n",
    "\"\"\"\n",
    "\n",
    "df = pd.read_sql(query, conn)\n",
    "df = df.dropna()"
   ]
  },
  {
   "cell_type": "code",
   "execution_count": 43,
   "metadata": {},
   "outputs": [
    {
     "name": "stdout",
     "output_type": "stream",
     "text": [
      "Index(['index', 'avg_temperature', 'avg_humidity'], dtype='object')\n"
     ]
    }
   ],
   "source": [
    "monthly_weather = df.agg({\n",
    "    'avg_temperature': ['mean', 'min', 'max'],\n",
    "    'avg_humidity': ['mean', 'min', 'max']\n",
    "}).reset_index()\n",
    "\n",
    "print(monthly_weather.columns)"
   ]
  },
  {
   "cell_type": "code",
   "execution_count": 44,
   "metadata": {},
   "outputs": [],
   "source": [
    "df_crop = pd.read_csv('../../dataset/crop_recommendation.csv')"
   ]
  },
  {
   "cell_type": "code",
   "execution_count": 45,
   "metadata": {},
   "outputs": [],
   "source": [
    "crop_mapping = {\n",
    "    'rice': 'padi', 'maize': 'jagung', 'chickpea': 'kacang arab', 'kidneybeans': 'kacang merah',\n",
    "    'pigeonpeas': 'kacang gude', 'mothbeans': 'kacang ngengat', 'mungbean': 'kacang hijau',\n",
    "    'blackgram': 'kacang hitam', 'lentil': 'kacang lentil', 'pomegranate': 'delima',\n",
    "    'banana': 'pisang', 'mango': 'mangga', 'grapes': 'anggur', 'watermelon': 'semangka',\n",
    "    'muskmelon': 'blewah', 'apple': 'apel', 'orange': 'jeruk', 'papaya': 'pepaya',\n",
    "    'coconut': 'kelapa', 'cotton': 'kapas', 'jute': 'rami', 'coffee': 'kopi'\n",
    "}\n",
    "df_crop['label'] = df_crop['label'].replace(crop_mapping)"
   ]
  },
  {
   "cell_type": "code",
   "execution_count": 46,
   "metadata": {},
   "outputs": [],
   "source": [
    "mean_temperature = monthly_weather['avg_temperature'].mean()\n",
    "min_temperature = monthly_weather['avg_temperature'].min()\n",
    "max_temperature = monthly_weather['avg_temperature'].max()\n",
    "\n",
    "mean_humidity = monthly_weather['avg_humidity'].mean()\n",
    "min_humidity = monthly_weather['avg_humidity'].min()\n",
    "max_humidity = monthly_weather['avg_humidity'].max()"
   ]
  },
  {
   "cell_type": "code",
   "execution_count": 47,
   "metadata": {},
   "outputs": [],
   "source": [
    "df_crop['mean_temperature'] = mean_temperature\n",
    "df_crop['min_temperature'] = min_temperature\n",
    "df_crop['max_temperature'] = max_temperature\n",
    "\n",
    "df_crop['mean_humidity'] = mean_humidity\n",
    "df_crop['min_humidity'] = min_humidity\n",
    "df_crop['max_humidity'] = max_humidity"
   ]
  },
  {
   "cell_type": "code",
   "execution_count": 48,
   "metadata": {},
   "outputs": [],
   "source": [
    "features = df_crop[['temperature', 'humidity', 'rainfall', \n",
    "                    'mean_temperature', 'mean_humidity']]\n",
    "target = df_crop['label']"
   ]
  },
  {
   "cell_type": "code",
   "execution_count": 49,
   "metadata": {},
   "outputs": [],
   "source": [
    "X_train, X_test, y_train, y_test = train_test_split(features, target, test_size=0.2, random_state=42)\n"
   ]
  },
  {
   "cell_type": "code",
   "execution_count": 50,
   "metadata": {},
   "outputs": [
    {
     "data": {
      "text/html": [
       "<style>#sk-container-id-3 {color: black;}#sk-container-id-3 pre{padding: 0;}#sk-container-id-3 div.sk-toggleable {background-color: white;}#sk-container-id-3 label.sk-toggleable__label {cursor: pointer;display: block;width: 100%;margin-bottom: 0;padding: 0.3em;box-sizing: border-box;text-align: center;}#sk-container-id-3 label.sk-toggleable__label-arrow:before {content: \"▸\";float: left;margin-right: 0.25em;color: #696969;}#sk-container-id-3 label.sk-toggleable__label-arrow:hover:before {color: black;}#sk-container-id-3 div.sk-estimator:hover label.sk-toggleable__label-arrow:before {color: black;}#sk-container-id-3 div.sk-toggleable__content {max-height: 0;max-width: 0;overflow: hidden;text-align: left;background-color: #f0f8ff;}#sk-container-id-3 div.sk-toggleable__content pre {margin: 0.2em;color: black;border-radius: 0.25em;background-color: #f0f8ff;}#sk-container-id-3 input.sk-toggleable__control:checked~div.sk-toggleable__content {max-height: 200px;max-width: 100%;overflow: auto;}#sk-container-id-3 input.sk-toggleable__control:checked~label.sk-toggleable__label-arrow:before {content: \"▾\";}#sk-container-id-3 div.sk-estimator input.sk-toggleable__control:checked~label.sk-toggleable__label {background-color: #d4ebff;}#sk-container-id-3 div.sk-label input.sk-toggleable__control:checked~label.sk-toggleable__label {background-color: #d4ebff;}#sk-container-id-3 input.sk-hidden--visually {border: 0;clip: rect(1px 1px 1px 1px);clip: rect(1px, 1px, 1px, 1px);height: 1px;margin: -1px;overflow: hidden;padding: 0;position: absolute;width: 1px;}#sk-container-id-3 div.sk-estimator {font-family: monospace;background-color: #f0f8ff;border: 1px dotted black;border-radius: 0.25em;box-sizing: border-box;margin-bottom: 0.5em;}#sk-container-id-3 div.sk-estimator:hover {background-color: #d4ebff;}#sk-container-id-3 div.sk-parallel-item::after {content: \"\";width: 100%;border-bottom: 1px solid gray;flex-grow: 1;}#sk-container-id-3 div.sk-label:hover label.sk-toggleable__label {background-color: #d4ebff;}#sk-container-id-3 div.sk-serial::before {content: \"\";position: absolute;border-left: 1px solid gray;box-sizing: border-box;top: 0;bottom: 0;left: 50%;z-index: 0;}#sk-container-id-3 div.sk-serial {display: flex;flex-direction: column;align-items: center;background-color: white;padding-right: 0.2em;padding-left: 0.2em;position: relative;}#sk-container-id-3 div.sk-item {position: relative;z-index: 1;}#sk-container-id-3 div.sk-parallel {display: flex;align-items: stretch;justify-content: center;background-color: white;position: relative;}#sk-container-id-3 div.sk-item::before, #sk-container-id-3 div.sk-parallel-item::before {content: \"\";position: absolute;border-left: 1px solid gray;box-sizing: border-box;top: 0;bottom: 0;left: 50%;z-index: -1;}#sk-container-id-3 div.sk-parallel-item {display: flex;flex-direction: column;z-index: 1;position: relative;background-color: white;}#sk-container-id-3 div.sk-parallel-item:first-child::after {align-self: flex-end;width: 50%;}#sk-container-id-3 div.sk-parallel-item:last-child::after {align-self: flex-start;width: 50%;}#sk-container-id-3 div.sk-parallel-item:only-child::after {width: 0;}#sk-container-id-3 div.sk-dashed-wrapped {border: 1px dashed gray;margin: 0 0.4em 0.5em 0.4em;box-sizing: border-box;padding-bottom: 0.4em;background-color: white;}#sk-container-id-3 div.sk-label label {font-family: monospace;font-weight: bold;display: inline-block;line-height: 1.2em;}#sk-container-id-3 div.sk-label-container {text-align: center;}#sk-container-id-3 div.sk-container {/* jupyter's `normalize.less` sets `[hidden] { display: none; }` but bootstrap.min.css set `[hidden] { display: none !important; }` so we also need the `!important` here to be able to override the default hidden behavior on the sphinx rendered scikit-learn.org. See: https://github.com/scikit-learn/scikit-learn/issues/21755 */display: inline-block !important;position: relative;}#sk-container-id-3 div.sk-text-repr-fallback {display: none;}</style><div id=\"sk-container-id-3\" class=\"sk-top-container\"><div class=\"sk-text-repr-fallback\"><pre>GaussianNB()</pre><b>In a Jupyter environment, please rerun this cell to show the HTML representation or trust the notebook. <br />On GitHub, the HTML representation is unable to render, please try loading this page with nbviewer.org.</b></div><div class=\"sk-container\" hidden><div class=\"sk-item\"><div class=\"sk-estimator sk-toggleable\"><input class=\"sk-toggleable__control sk-hidden--visually\" id=\"sk-estimator-id-3\" type=\"checkbox\" checked><label for=\"sk-estimator-id-3\" class=\"sk-toggleable__label sk-toggleable__label-arrow\">GaussianNB</label><div class=\"sk-toggleable__content\"><pre>GaussianNB()</pre></div></div></div></div></div>"
      ],
      "text/plain": [
       "GaussianNB()"
      ]
     },
     "execution_count": 50,
     "metadata": {},
     "output_type": "execute_result"
    }
   ],
   "source": [
    "model = GaussianNB()\n",
    "model.fit(X_train, y_train)"
   ]
  },
  {
   "cell_type": "code",
   "execution_count": 51,
   "metadata": {},
   "outputs": [
    {
     "name": "stdout",
     "output_type": "stream",
     "text": [
      "                precision    recall  f1-score   support\n",
      "\n",
      "        anggur       1.00      1.00      1.00        14\n",
      "          apel       0.88      1.00      0.94        23\n",
      "        blewah       1.00      1.00      1.00        17\n",
      "        delima       0.95      0.83      0.88        23\n",
      "        jagung       0.88      0.71      0.79        21\n",
      "         jeruk       0.75      0.86      0.80        14\n",
      "   kacang arab       1.00      0.92      0.96        26\n",
      "   kacang gude       1.00      0.74      0.85        23\n",
      "  kacang hijau       1.00      0.79      0.88        19\n",
      "  kacang hitam       0.77      1.00      0.87        20\n",
      " kacang lentil       0.85      1.00      0.92        11\n",
      "  kacang merah       0.91      1.00      0.95        20\n",
      "kacang ngengat       1.00      0.79      0.88        24\n",
      "         kapas       0.81      1.00      0.89        17\n",
      "        kelapa       0.81      0.96      0.88        27\n",
      "          kopi       0.89      0.94      0.91        17\n",
      "        mangga       0.90      1.00      0.95        19\n",
      "          padi       1.00      0.89      0.94        19\n",
      "        pepaya       0.94      0.65      0.77        23\n",
      "        pisang       0.95      0.90      0.93        21\n",
      "          rami       0.88      1.00      0.94        23\n",
      "      semangka       0.83      1.00      0.90        19\n",
      "\n",
      "      accuracy                           0.90       440\n",
      "     macro avg       0.91      0.91      0.90       440\n",
      "  weighted avg       0.91      0.90      0.90       440\n",
      "\n"
     ]
    }
   ],
   "source": [
    "y_pred = model.predict(X_test)\n",
    "print(classification_report(y_test, y_pred))"
   ]
  },
  {
   "cell_type": "code",
   "execution_count": 52,
   "metadata": {},
   "outputs": [],
   "source": [
    "model_filename = '../../model/ModelClassifier.pkl'\n",
    "with open(model_filename, 'wb') as file:\n",
    "    pickle.dump(model, file)"
   ]
  }
 ],
 "metadata": {
  "kernelspec": {
   "display_name": "base",
   "language": "python",
   "name": "python3"
  },
  "language_info": {
   "codemirror_mode": {
    "name": "ipython",
    "version": 3
   },
   "file_extension": ".py",
   "mimetype": "text/x-python",
   "name": "python",
   "nbconvert_exporter": "python",
   "pygments_lexer": "ipython3",
   "version": "3.11.4"
  }
 },
 "nbformat": 4,
 "nbformat_minor": 2
}
