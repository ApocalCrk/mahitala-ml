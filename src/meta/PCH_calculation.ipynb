{
 "cells": [
  {
   "cell_type": "code",
   "execution_count": 1,
   "metadata": {},
   "outputs": [],
   "source": [
    "import pandas as pd"
   ]
  },
  {
   "cell_type": "code",
   "execution_count": 2,
   "metadata": {},
   "outputs": [],
   "source": [
    "df_nov_diy = pd.read_csv('../../dataset/pch_full_data_nov.csv')\n",
    "df_des_diy = pd.read_csv('../../dataset/pch_full_data_des.csv')\n",
    "df_jan_diy = pd.read_csv('../../dataset/pch_full_data_jan.csv')\n",
    "df_feb_diy = pd.read_csv('../../dataset/pch_full_data_feb.csv')"
   ]
  },
  {
   "cell_type": "code",
   "execution_count": 11,
   "metadata": {},
   "outputs": [],
   "source": [
    "df_combined = pd.merge(df_feb_diy, df_des_diy, on=['LAT', 'LON', 'Id Kabkot', 'Id Prov'], suffixes=('_feb', '_des'))\n",
    "\n",
    "df_combined = pd.merge(df_combined, df_jan_diy, on=['LAT', 'LON', 'Id Kabkot', 'Id Prov'])\n",
    "\n",
    "df_combined = df_combined.rename(columns={'Bulan': 'Bulan_jan','KategoriCH': 'KategoriCH_jan', 'KelasCH': 'KelasCH_jan', 'CH': 'CH_jan', 'KategoriSH': 'KategoriSH_jan', 'KelasSH': 'KelasSH_jan', 'SH': 'SH_jan'})"
   ]
  },
  {
   "cell_type": "code",
   "execution_count": 13,
   "metadata": {},
   "outputs": [],
   "source": [
    "df_combined['Curah_Hujan_Rata'] = df_combined[['CH_feb', 'CH_des', 'CH_jan']].mean(axis=1)\n",
    "df_combined['Sifat_Hujan_Rata'] = df_combined[['SH_feb', 'SH_des', 'SH_jan']].mean(axis=1)"
   ]
  },
  {
   "cell_type": "code",
   "execution_count": 5,
   "metadata": {},
   "outputs": [],
   "source": [
    "df_combined.to_csv('../../dataset/period3_ch_psh.csv', index=False)"
   ]
  }
 ],
 "metadata": {
  "kernelspec": {
   "display_name": "base",
   "language": "python",
   "name": "python3"
  },
  "language_info": {
   "codemirror_mode": {
    "name": "ipython",
    "version": 3
   },
   "file_extension": ".py",
   "mimetype": "text/x-python",
   "name": "python",
   "nbconvert_exporter": "python",
   "pygments_lexer": "ipython3",
   "version": "3.11.4"
  }
 },
 "nbformat": 4,
 "nbformat_minor": 2
}
