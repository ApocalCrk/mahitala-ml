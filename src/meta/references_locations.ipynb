{
 "cells": [
  {
   "cell_type": "code",
   "execution_count": 6,
   "metadata": {},
   "outputs": [],
   "source": [
    "import pandas as pd"
   ]
  },
  {
   "cell_type": "code",
   "execution_count": 7,
   "metadata": {},
   "outputs": [
    {
     "name": "stdout",
     "output_type": "stream",
     "text": [
      "   ID Lokasi      Nama Daerah        Kabupaten/Kota Provinsi  Latitude  \\\n",
      "0     501409       Aceh Barat       Kab. Aceh Barat     Aceh  4.176594   \n",
      "1     501400  Aceh Barat Daya  Kab. Aceh Barat Daya     Aceh  3.740000   \n",
      "2     501404       Aceh Besar       Kab. Aceh Besar     Aceh  5.298143   \n",
      "3     501401        Aceh Jaya        Kab. Aceh Jaya     Aceh  4.616667   \n",
      "4     501417     Aceh Selatan     Kab. Aceh Selatan     Aceh  3.280000   \n",
      "\n",
      "   Longitude  \n",
      "0  96.124878  \n",
      "1  96.860000  \n",
      "2  95.596848  \n",
      "3  95.616700  \n",
      "4  97.220000  \n",
      "   ID Lokasi                Waktu  Suhu Min  Suhu Max  Kelembapan Min  \\\n",
      "0     501186  2024-10-10 00:00:00       NaN       NaN             NaN   \n",
      "1     501186  2024-10-10 01:00:00       NaN       NaN             NaN   \n",
      "2     501186  2024-10-10 02:00:00       NaN       NaN             NaN   \n",
      "3     501186  2024-10-10 03:00:00       NaN       NaN             NaN   \n",
      "4     501186  2024-10-10 04:00:00       NaN       NaN             NaN   \n",
      "\n",
      "   Kelembapan Max  Kelembapan  Suhu  Cuaca Arah Angin  Kecepatan Angin  \n",
      "0             NaN          80    27      1         NE                1  \n",
      "1             NaN          70    28      1         NE                1  \n",
      "2             NaN          61    30      1         SE                9  \n",
      "3             NaN          56    30      1         SE                9  \n",
      "4             NaN          57    31      1         SE                9  \n"
     ]
    }
   ],
   "source": [
    "df_lokasi = pd.read_csv('../../dataset/kecamatan_geofeatures.csv', sep=';')\n",
    "df_forecast = pd.read_csv('../../dataset/kecamatanforecast-jogyakarta.csv', sep=';')\n",
    "\n",
    "print(df_lokasi.head())\n",
    "print(df_forecast.head())"
   ]
  },
  {
   "cell_type": "code",
   "execution_count": 8,
   "metadata": {},
   "outputs": [],
   "source": [
    "merged_data = pd.merge(df_forecast, df_lokasi, left_on='ID Lokasi', right_on='ID Lokasi', how='inner')"
   ]
  },
  {
   "cell_type": "code",
   "execution_count": 9,
   "metadata": {},
   "outputs": [
    {
     "name": "stdout",
     "output_type": "stream",
     "text": [
      "   ID Lokasi                Waktu  Suhu Min  Suhu Max  Kelembapan Min  \\\n",
      "0     501186  2024-10-10 00:00:00       NaN       NaN             NaN   \n",
      "1     501186  2024-10-10 01:00:00       NaN       NaN             NaN   \n",
      "2     501186  2024-10-10 02:00:00       NaN       NaN             NaN   \n",
      "3     501186  2024-10-10 03:00:00       NaN       NaN             NaN   \n",
      "4     501186  2024-10-10 04:00:00       NaN       NaN             NaN   \n",
      "\n",
      "   Kelembapan Max  Kelembapan  Suhu  Cuaca Arah Angin  Kecepatan Angin  \\\n",
      "0             NaN          80    27      1         NE                1   \n",
      "1             NaN          70    28      1         NE                1   \n",
      "2             NaN          61    30      1         SE                9   \n",
      "3             NaN          56    30      1         SE                9   \n",
      "4             NaN          57    31      1         SE                9   \n",
      "\n",
      "  Nama Daerah Kabupaten/Kota       Provinsi  Latitude  Longitude  \n",
      "0      Bantul    Kab. Bantul  DI Yogyakarta -7.916667   110.3167  \n",
      "1      Bantul    Kab. Bantul  DI Yogyakarta -7.916667   110.3167  \n",
      "2      Bantul    Kab. Bantul  DI Yogyakarta -7.916667   110.3167  \n",
      "3      Bantul    Kab. Bantul  DI Yogyakarta -7.916667   110.3167  \n",
      "4      Bantul    Kab. Bantul  DI Yogyakarta -7.916667   110.3167  \n"
     ]
    }
   ],
   "source": [
    "print(merged_data.head())"
   ]
  },
  {
   "cell_type": "code",
   "execution_count": 10,
   "metadata": {},
   "outputs": [],
   "source": [
    "merged_data.to_csv('../../dataset/forecast_location-yogyakarta.csv', index=False)"
   ]
  }
 ],
 "metadata": {
  "kernelspec": {
   "display_name": "base",
   "language": "python",
   "name": "python3"
  },
  "language_info": {
   "codemirror_mode": {
    "name": "ipython",
    "version": 3
   },
   "file_extension": ".py",
   "mimetype": "text/x-python",
   "name": "python",
   "nbconvert_exporter": "python",
   "pygments_lexer": "ipython3",
   "version": "3.11.4"
  }
 },
 "nbformat": 4,
 "nbformat_minor": 2
}
