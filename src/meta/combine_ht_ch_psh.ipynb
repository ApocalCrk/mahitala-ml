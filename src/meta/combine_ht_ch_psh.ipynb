{
 "cells": [
  {
   "cell_type": "code",
   "execution_count": 515,
   "metadata": {},
   "outputs": [],
   "source": [
    "import pandas as pd"
   ]
  },
  {
   "cell_type": "code",
   "execution_count": 516,
   "metadata": {},
   "outputs": [],
   "source": [
    "df_forecast = pd.read_csv('../../dataset/averaged_forecast-yogyakarta.csv').head(5)\n",
    "df_period = pd.read_csv('../../dataset/period3_ch_psh.csv')"
   ]
  },
  {
   "cell_type": "code",
   "execution_count": 517,
   "metadata": {},
   "outputs": [],
   "source": [
    "def remove_kab(kabupaten):\n",
    "    kota = kabupaten.replace('Kab. ', \"\")\n",
    "    if kota == 'Gunung Kidul':\n",
    "        kota = kota.replace('Gunung Kidul', 'Gunungkidul')\n",
    "    return kota"
   ]
  },
  {
   "cell_type": "code",
   "execution_count": 518,
   "metadata": {},
   "outputs": [
    {
     "data": {
      "text/html": [
       "<div>\n",
       "<style scoped>\n",
       "    .dataframe tbody tr th:only-of-type {\n",
       "        vertical-align: middle;\n",
       "    }\n",
       "\n",
       "    .dataframe tbody tr th {\n",
       "        vertical-align: top;\n",
       "    }\n",
       "\n",
       "    .dataframe thead th {\n",
       "        text-align: right;\n",
       "    }\n",
       "</style>\n",
       "<table border=\"1\" class=\"dataframe\">\n",
       "  <thead>\n",
       "    <tr style=\"text-align: right;\">\n",
       "      <th></th>\n",
       "      <th>ID Lokasi</th>\n",
       "      <th>Nama Daerah</th>\n",
       "      <th>Kabupaten/Kota</th>\n",
       "      <th>Provinsi</th>\n",
       "      <th>rata_rata_temp</th>\n",
       "      <th>rata_rata_humi</th>\n",
       "    </tr>\n",
       "  </thead>\n",
       "  <tbody>\n",
       "    <tr>\n",
       "      <th>0</th>\n",
       "      <td>501186</td>\n",
       "      <td>Bantul</td>\n",
       "      <td>Kab. Bantul</td>\n",
       "      <td>DI Yogyakarta</td>\n",
       "      <td>26.940171</td>\n",
       "      <td>76.871795</td>\n",
       "    </tr>\n",
       "    <tr>\n",
       "      <th>1</th>\n",
       "      <td>501187</td>\n",
       "      <td>Sleman</td>\n",
       "      <td>Kab. Sleman</td>\n",
       "      <td>DI Yogyakarta</td>\n",
       "      <td>26.068376</td>\n",
       "      <td>78.658120</td>\n",
       "    </tr>\n",
       "    <tr>\n",
       "      <th>2</th>\n",
       "      <td>501188</td>\n",
       "      <td>Wates</td>\n",
       "      <td>Kab. Kulon Progo</td>\n",
       "      <td>DI Yogyakarta</td>\n",
       "      <td>26.418803</td>\n",
       "      <td>80.435897</td>\n",
       "    </tr>\n",
       "    <tr>\n",
       "      <th>3</th>\n",
       "      <td>501189</td>\n",
       "      <td>Gunung Kidul</td>\n",
       "      <td>Kab. Gunung Kidul</td>\n",
       "      <td>DI Yogyakarta</td>\n",
       "      <td>26.504274</td>\n",
       "      <td>76.452991</td>\n",
       "    </tr>\n",
       "    <tr>\n",
       "      <th>4</th>\n",
       "      <td>501190</td>\n",
       "      <td>Yogyakarta</td>\n",
       "      <td>Kota Yogyakarta</td>\n",
       "      <td>DI Yogyakarta</td>\n",
       "      <td>27.136752</td>\n",
       "      <td>75.923077</td>\n",
       "    </tr>\n",
       "  </tbody>\n",
       "</table>\n",
       "</div>"
      ],
      "text/plain": [
       "   ID Lokasi   Nama Daerah     Kabupaten/Kota       Provinsi  rata_rata_temp  \\\n",
       "0     501186        Bantul        Kab. Bantul  DI Yogyakarta       26.940171   \n",
       "1     501187        Sleman        Kab. Sleman  DI Yogyakarta       26.068376   \n",
       "2     501188         Wates   Kab. Kulon Progo  DI Yogyakarta       26.418803   \n",
       "3     501189  Gunung Kidul  Kab. Gunung Kidul  DI Yogyakarta       26.504274   \n",
       "4     501190    Yogyakarta    Kota Yogyakarta  DI Yogyakarta       27.136752   \n",
       "\n",
       "   rata_rata_humi  \n",
       "0       76.871795  \n",
       "1       78.658120  \n",
       "2       80.435897  \n",
       "3       76.452991  \n",
       "4       75.923077  "
      ]
     },
     "execution_count": 518,
     "metadata": {},
     "output_type": "execute_result"
    }
   ],
   "source": [
    "df_forecast"
   ]
  },
  {
   "cell_type": "code",
   "execution_count": 519,
   "metadata": {},
   "outputs": [],
   "source": [
    "df_forecast['Id Kabkot'] = df_forecast['Kabupaten/Kota'].apply(remove_kab)\n"
   ]
  },
  {
   "cell_type": "code",
   "execution_count": 520,
   "metadata": {},
   "outputs": [],
   "source": [
    "df_merged = pd.merge(df_period, df_forecast[['Id Kabkot', 'rata_rata_temp', 'rata_rata_humi']], on='Id Kabkot')"
   ]
  },
  {
   "cell_type": "code",
   "execution_count": 521,
   "metadata": {},
   "outputs": [],
   "source": [
    "df_merged = df_merged.drop(columns=['Id Kabkot'])"
   ]
  },
  {
   "cell_type": "code",
   "execution_count": 522,
   "metadata": {},
   "outputs": [
    {
     "name": "stdout",
     "output_type": "stream",
     "text": [
      "106\n"
     ]
    }
   ],
   "source": [
    "df_cleaned = df_merged.drop_duplicates()\n",
    "\n",
    "print(len(df_cleaned))"
   ]
  },
  {
   "cell_type": "code",
   "execution_count": 523,
   "metadata": {},
   "outputs": [],
   "source": [
    "df_merged.to_csv('../../dataset/period3_psch_ht.csv', index=False)"
   ]
  }
 ],
 "metadata": {
  "kernelspec": {
   "display_name": "base",
   "language": "python",
   "name": "python3"
  },
  "language_info": {
   "codemirror_mode": {
    "name": "ipython",
    "version": 3
   },
   "file_extension": ".py",
   "mimetype": "text/x-python",
   "name": "python",
   "nbconvert_exporter": "python",
   "pygments_lexer": "ipython3",
   "version": "3.11.4"
  }
 },
 "nbformat": 4,
 "nbformat_minor": 2
}
