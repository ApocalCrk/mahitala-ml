{
 "cells": [
  {
   "cell_type": "code",
   "execution_count": 1,
   "metadata": {},
   "outputs": [],
   "source": [
    "import pandas as pd\n",
    "import numpy as np\n",
    "import joblib\n",
    "import pymysql"
   ]
  },
  {
   "cell_type": "code",
   "execution_count": 2,
   "metadata": {},
   "outputs": [
    {
     "name": "stdout",
     "output_type": "stream",
     "text": [
      "connection successful\n"
     ]
    }
   ],
   "source": [
    "db_name = \"gis_system\"\n",
    "db_host = \"localhost\"\n",
    "db_username = \"root\"\n",
    "db_password = \"\"\n",
    "\n",
    "try:\n",
    "    conn = pymysql.connect(host = db_host,\n",
    "                           port = int(3306),\n",
    "                           user = \"root\",\n",
    "                           password = db_password,\n",
    "                           db = db_name)\n",
    "except e:\n",
    "    print (e)\n",
    "if conn:\n",
    "    print (\"connection successful\")\n",
    "else:\n",
    "    print (\"error\")"
   ]
  },
  {
   "cell_type": "code",
   "execution_count": 3,
   "metadata": {},
   "outputs": [],
   "source": [
    "model = joblib.load('model/ModelClassifier.pkl')"
   ]
  },
  {
   "cell_type": "code",
   "execution_count": 4,
   "metadata": {},
   "outputs": [],
   "source": [
    "df_period = pd.read_csv('dataset/period3_psch_ht.csv')\n",
    "df_crop_recom_range = pd.read_csv('dataset/crop_recommendation_range.csv')"
   ]
  },
  {
   "cell_type": "code",
   "execution_count": 5,
   "metadata": {},
   "outputs": [],
   "source": [
    "df_period = df_period.rename(columns={\n",
    "    'rata_rata_humi': 'humidity',\n",
    "    'Curah_Hujan_Rata': 'rainfall',\n",
    "    'rata_rata_temp': 'temperature'\n",
    "})"
   ]
  },
  {
   "cell_type": "code",
   "execution_count": 6,
   "metadata": {},
   "outputs": [],
   "source": [
    "features = df_period[['temperature', 'humidity', 'rainfall']].copy()"
   ]
  },
  {
   "cell_type": "code",
   "execution_count": 7,
   "metadata": {},
   "outputs": [],
   "source": [
    "predictions = model.predict(features)\n",
    "\n",
    "df_period['predicted_usable'] = predictions"
   ]
  },
  {
   "cell_type": "code",
   "execution_count": 10,
   "metadata": {},
   "outputs": [],
   "source": [
    "for index, row in df_period.iterrows():\n",
    "    cursor = conn.cursor()\n",
    "    sql = \"SELECT * FROM predictions WHERE lat = %s AND lon = %s\"\n",
    "    cursor.execute(sql, (row['LAT'], row['LON']))\n",
    "    result = cursor.fetchall()\n",
    "    if len(result) > 0:\n",
    "        sql = \"UPDATE predictions SET provinsi = %s, rainfall = %s, sifat_hujan_rata = %s, temperature = %s, humidity = %s, predicted = %s WHERE lat = %s AND lon = %s\"\n",
    "        cursor.execute(sql, (row['Id Prov'], row['rainfall'], row['Sifat_Hujan_Rata'], row['temperature'], row['humidity'], row['predicted_usable'], row['LAT'], row['LON']))\n",
    "    else:\n",
    "        sql = \"INSERT INTO predictions (lat, lon, provinsi, rainfall, sifat_hujan_rata, temperature, humidity, predicted) VALUES (%s, %s, %s, %s, %s, %s, %s)\"\n",
    "        cursor.execute(sql, (row['LAT'], row['LON'], row['Id Prov'], row['rainfall'], row['Sifat_Hujan_Rata'], row['temperature'], row['humidity'], row['predicted_usable']))\n",
    "    conn.commit()\n",
    "    cursor.close()\n",
    "    \n",
    "for index, row in df_crop_recom_range.iterrows():\n",
    "    cursor = conn.cursor()\n",
    "    sql = \"SELECT * FROM crop_recom_range WHERE label = %s\"\n",
    "    cursor.execute(sql, (row['label']))\n",
    "    result = cursor.fetchall()\n",
    "    if len(result) > 0:\n",
    "        sql = \"UPDATE crop_recom_range SET min_range_temperature = %s, max_range_temperature = %s, min_range_humidity = %s, max_range_humidity = %s, min_range_rainfall = %s, max_range_rainfall = %s WHERE label = %s\"\n",
    "        cursor.execute(sql, (row['min_range_temperature'], row['max_range_temperature'], row['min_range_humidity'], row['max_range_humidity'], row['min_range_rainfall'], row['max_range_rainfall'], row['label']))\n",
    "    else:\n",
    "        sql = \"INSERT INTO crop_recom_range (label, min_range_temperature, max_range_temperature, min_range_humidity, max_range_humidity, min_range_rainfall, max_range_rainfall) VALUES (%s, %s, %s, %s, %s, %s, %s)\"\n",
    "        cursor.execute(sql, (row['label'], row['min_range_temperature'], row['max_range_temperature'], row['min_range_humidity'], row['max_range_humidity'], row['min_range_rainfall'], row['max_range_rainfall']))\n",
    "    conn.commit()\n",
    "    cursor.close()\n",
    "\n",
    "df_period.to_csv('result/predicted_tanaman.csv', index=False)"
   ]
  }
 ],
 "metadata": {
  "kernelspec": {
   "display_name": "base",
   "language": "python",
   "name": "python3"
  },
  "language_info": {
   "codemirror_mode": {
    "name": "ipython",
    "version": 3
   },
   "file_extension": ".py",
   "mimetype": "text/x-python",
   "name": "python",
   "nbconvert_exporter": "python",
   "pygments_lexer": "ipython3",
   "version": "3.11.4"
  }
 },
 "nbformat": 4,
 "nbformat_minor": 2
}
